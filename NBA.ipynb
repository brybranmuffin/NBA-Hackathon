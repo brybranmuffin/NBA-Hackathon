{
 "cells": [
  {
   "cell_type": "code",
   "execution_count": 9,
   "metadata": {},
   "outputs": [
    {
     "data": {
      "text/html": [
       "<table border=\"1\" class=\"dataframe\">\n",
       "    <thead>\n",
       "        <tr>\n",
       "            <th>Game_id</th> <th>Period</th> <th>Person_id</th> <th>Team_id</th> <th>status</th>\n",
       "        </tr>\n",
       "    </thead>\n",
       "    <tbody>\n",
       "        <tr>\n",
       "            <td>006728e4c10e957011e1f24878e6054a</td> <td>0     </td> <td>ae53f8ba6761b64a174051da817785bc</td> <td>01be0ad4af7aeb1f6d2cc2b6b6d6d811</td> <td>A     </td>\n",
       "        </tr>\n",
       "        <tr>\n",
       "            <td>006728e4c10e957011e1f24878e6054a</td> <td>0     </td> <td>44230324724c84f122ac62a5f0918314</td> <td>45ba8fc87f55b1191c50c400dc7ed11c</td> <td>A     </td>\n",
       "        </tr>\n",
       "        <tr>\n",
       "            <td>006728e4c10e957011e1f24878e6054a</td> <td>0     </td> <td>8d2127290c94bd41b82a2938734bc750</td> <td>01be0ad4af7aeb1f6d2cc2b6b6d6d811</td> <td>A     </td>\n",
       "        </tr>\n",
       "        <tr>\n",
       "            <td>006728e4c10e957011e1f24878e6054a</td> <td>0     </td> <td>48ec4e6c52f418d5ca4ef510ba473ea0</td> <td>45ba8fc87f55b1191c50c400dc7ed11c</td> <td>A     </td>\n",
       "        </tr>\n",
       "        <tr>\n",
       "            <td>006728e4c10e957011e1f24878e6054a</td> <td>0     </td> <td>e816ff284dc3f965b8f3d605a3b91bae</td> <td>01be0ad4af7aeb1f6d2cc2b6b6d6d811</td> <td>A     </td>\n",
       "        </tr>\n",
       "        <tr>\n",
       "            <td>006728e4c10e957011e1f24878e6054a</td> <td>0     </td> <td>ed95dff5440fadf3042b5acacea81eed</td> <td>01be0ad4af7aeb1f6d2cc2b6b6d6d811</td> <td>A     </td>\n",
       "        </tr>\n",
       "        <tr>\n",
       "            <td>006728e4c10e957011e1f24878e6054a</td> <td>0     </td> <td>616281dee946056b071699476fdee9ec</td> <td>45ba8fc87f55b1191c50c400dc7ed11c</td> <td>A     </td>\n",
       "        </tr>\n",
       "        <tr>\n",
       "            <td>006728e4c10e957011e1f24878e6054a</td> <td>0     </td> <td>e814950408915f43de2b079dce7c21c5</td> <td>45ba8fc87f55b1191c50c400dc7ed11c</td> <td>A     </td>\n",
       "        </tr>\n",
       "        <tr>\n",
       "            <td>006728e4c10e957011e1f24878e6054a</td> <td>0     </td> <td>2ad626904c8b28cceb8e12c624a84240</td> <td>01be0ad4af7aeb1f6d2cc2b6b6d6d811</td> <td>A     </td>\n",
       "        </tr>\n",
       "        <tr>\n",
       "            <td>006728e4c10e957011e1f24878e6054a</td> <td>0     </td> <td>bd45fe7dba52aa2cd00ba80ff107d05b</td> <td>01be0ad4af7aeb1f6d2cc2b6b6d6d811</td> <td>I     </td>\n",
       "        </tr>\n",
       "    </tbody>\n",
       "</table>\n",
       "<p>... (5770 rows omitted)</p>"
      ],
      "text/plain": [
       "Game_id                          | Period | Person_id                        | Team_id                          | status\n",
       "006728e4c10e957011e1f24878e6054a | 0      | ae53f8ba6761b64a174051da817785bc | 01be0ad4af7aeb1f6d2cc2b6b6d6d811 | A\n",
       "006728e4c10e957011e1f24878e6054a | 0      | 44230324724c84f122ac62a5f0918314 | 45ba8fc87f55b1191c50c400dc7ed11c | A\n",
       "006728e4c10e957011e1f24878e6054a | 0      | 8d2127290c94bd41b82a2938734bc750 | 01be0ad4af7aeb1f6d2cc2b6b6d6d811 | A\n",
       "006728e4c10e957011e1f24878e6054a | 0      | 48ec4e6c52f418d5ca4ef510ba473ea0 | 45ba8fc87f55b1191c50c400dc7ed11c | A\n",
       "006728e4c10e957011e1f24878e6054a | 0      | e816ff284dc3f965b8f3d605a3b91bae | 01be0ad4af7aeb1f6d2cc2b6b6d6d811 | A\n",
       "006728e4c10e957011e1f24878e6054a | 0      | ed95dff5440fadf3042b5acacea81eed | 01be0ad4af7aeb1f6d2cc2b6b6d6d811 | A\n",
       "006728e4c10e957011e1f24878e6054a | 0      | 616281dee946056b071699476fdee9ec | 45ba8fc87f55b1191c50c400dc7ed11c | A\n",
       "006728e4c10e957011e1f24878e6054a | 0      | e814950408915f43de2b079dce7c21c5 | 45ba8fc87f55b1191c50c400dc7ed11c | A\n",
       "006728e4c10e957011e1f24878e6054a | 0      | 2ad626904c8b28cceb8e12c624a84240 | 01be0ad4af7aeb1f6d2cc2b6b6d6d811 | A\n",
       "006728e4c10e957011e1f24878e6054a | 0      | bd45fe7dba52aa2cd00ba80ff107d05b | 01be0ad4af7aeb1f6d2cc2b6b6d6d811 | I\n",
       "... (5770 rows omitted)"
      ]
     },
     "execution_count": 9,
     "metadata": {},
     "output_type": "execute_result"
    }
   ],
   "source": [
    "from datascience import *\n",
    "import numpy as np\n",
    "from random import *\n",
    "game = Table.read_table('game_stats.csv')\n",
    "lineup = Table.read_table('lineup.csv')\n",
    "events = Table.read_table('events.csv')\n",
    "lineup"
   ]
  },
  {
   "cell_type": "code",
   "execution_count": 2,
   "metadata": {},
   "outputs": [],
   "source": [
    "#game table has to be set up like this\n",
    "game = game.sort(\"Period\", descending = False)\n",
    "game = game.sort(\"PC_Time\", descending = False)\n",
    "game = game.sort(\"WC_Time\", descending = True)\n",
    "game = game.sort(\"Event_Num\", descending = True)"
   ]
  },
  {
   "cell_type": "code",
   "execution_count": 8,
   "metadata": {},
   "outputs": [
    {
     "data": {
      "text/html": [
       "<table border=\"1\" class=\"dataframe\">\n",
       "    <thead>\n",
       "        <tr>\n",
       "            <th>Game_id</th> <th>Event_Num</th> <th>Event_Msg_Type</th> <th>Period</th> <th>WC_Time</th> <th>PC_Time</th> <th>Action_Type</th> <th>Option1</th> <th>Option2</th> <th>Option3</th> <th>Team_id</th> <th>Person1</th> <th>Person2</th> <th>Person3</th> <th>Team_id_type</th> <th>Person1_type</th> <th>Person2_type</th> <th>Person3_type</th>\n",
       "        </tr>\n",
       "    </thead>\n",
       "    <tbody>\n",
       "        <tr>\n",
       "            <td>006728e4c10e957011e1f24878e6054a</td> <td>2        </td> <td>12            </td> <td>1     </td> <td>546,410</td> <td>7,200  </td> <td>0          </td> <td>0      </td> <td>0      </td> <td>0      </td> <td>1473d70e5646a26de3c52aa1abd85b1f</td> <td>0370a0d090da0d0edc6319f120187e0e</td> <td>0370a0d090da0d0edc6319f120187e0e</td> <td>0370a0d090da0d0edc6319f120187e0e</td> <td>0           </td> <td>0           </td> <td>0           </td> <td>0           </td>\n",
       "        </tr>\n",
       "    </tbody>\n",
       "</table>"
      ],
      "text/plain": [
       "Game_id                          | Event_Num | Event_Msg_Type | Period | WC_Time | PC_Time | Action_Type | Option1 | Option2 | Option3 | Team_id                          | Person1                          | Person2                          | Person3                          | Team_id_type | Person1_type | Person2_type | Person3_type\n",
       "006728e4c10e957011e1f24878e6054a | 2         | 12             | 1      | 546,410 | 7,200   | 0           | 0       | 0       | 0       | 1473d70e5646a26de3c52aa1abd85b1f | 0370a0d090da0d0edc6319f120187e0e | 0370a0d090da0d0edc6319f120187e0e | 0370a0d090da0d0edc6319f120187e0e | 0            | 0            | 0            | 0"
      ]
     },
     "execution_count": 8,
     "metadata": {},
     "output_type": "execute_result"
    }
   ],
   "source": [
    "test_quarter = game.where(\"Game_id\", are.equal_to(\"006728e4c10e957011e1f24878e6054a\")).where(\"Period\", are.equal_to(1))\n",
    "\n",
    "def game_poss_counter(game_id):\n",
    "    game_id = game\n",
    "    game_table = game.where(\"Game_id\". are.equal_to(game_id))\n",
    "    current period = 1\n",
    "    players = lineup.where(\"Game_id\", are.equal_to(game_id)).column(\"Person_id\")\n",
    "    starters = lineup.where(\"Game_id\", are.equal_to(game_id)).where(\"Period\", are.equal_to(1)).column(\"Person_id\")"
   ]
  },
  {
   "cell_type": "code",
   "execution_count": 31,
   "metadata": {},
   "outputs": [
    {
     "data": {
      "text/html": [
       "<table border=\"1\" class=\"dataframe\">\n",
       "    <thead>\n",
       "        <tr>\n",
       "            <th>Game_id</th> <th>Event_Num</th> <th>Event_Msg_Type</th> <th>Period</th> <th>WC_Time</th> <th>PC_Time</th> <th>Action_Type</th> <th>Option1</th> <th>Option2</th> <th>Option3</th> <th>Team_id</th> <th>Person1</th> <th>Person2</th> <th>Person3</th> <th>Team_id_type</th> <th>Person1_type</th> <th>Person2_type</th> <th>Person3_type</th>\n",
       "        </tr>\n",
       "    </thead>\n",
       "    <tbody>\n",
       "        <tr>\n",
       "            <td>006728e4c10e957011e1f24878e6054a</td> <td>2        </td> <td>12            </td> <td>1     </td> <td>546,410</td> <td>7,200  </td> <td>0          </td> <td>0      </td> <td>0      </td> <td>0      </td> <td>1473d70e5646a26de3c52aa1abd85b1f</td> <td>0370a0d090da0d0edc6319f120187e0e</td> <td>0370a0d090da0d0edc6319f120187e0e</td> <td>0370a0d090da0d0edc6319f120187e0e</td> <td>0           </td> <td>0           </td> <td>0           </td> <td>0           </td>\n",
       "        </tr>\n",
       "        <tr>\n",
       "            <td>006728e4c10e957011e1f24878e6054a</td> <td>0        </td> <td>16            </td> <td>4     </td> <td>629,380</td> <td>0      </td> <td>0          </td> <td>0      </td> <td>0      </td> <td>0      </td> <td>1473d70e5646a26de3c52aa1abd85b1f</td> <td>0370a0d090da0d0edc6319f120187e0e</td> <td>0370a0d090da0d0edc6319f120187e0e</td> <td>0370a0d090da0d0edc6319f120187e0e</td> <td>0           </td> <td>0           </td> <td>0           </td> <td>0           </td>\n",
       "        </tr>\n",
       "    </tbody>\n",
       "</table>"
      ],
      "text/plain": [
       "Game_id                          | Event_Num | Event_Msg_Type | Period | WC_Time | PC_Time | Action_Type | Option1 | Option2 | Option3 | Team_id                          | Person1                          | Person2                          | Person3                          | Team_id_type | Person1_type | Person2_type | Person3_type\n",
       "006728e4c10e957011e1f24878e6054a | 2         | 12             | 1      | 546,410 | 7,200   | 0           | 0       | 0       | 0       | 1473d70e5646a26de3c52aa1abd85b1f | 0370a0d090da0d0edc6319f120187e0e | 0370a0d090da0d0edc6319f120187e0e | 0370a0d090da0d0edc6319f120187e0e | 0            | 0            | 0            | 0\n",
       "006728e4c10e957011e1f24878e6054a | 0         | 16             | 4      | 629,380 | 0       | 0           | 0       | 0       | 0       | 1473d70e5646a26de3c52aa1abd85b1f | 0370a0d090da0d0edc6319f120187e0e | 0370a0d090da0d0edc6319f120187e0e | 0370a0d090da0d0edc6319f120187e0e | 0            | 0            | 0            | 0"
      ]
     },
     "execution_count": 31,
     "metadata": {},
     "output_type": "execute_result"
    }
   ],
   "source": [
    "test_game = game.where(\"Team_id\", are.equal_to(\"1473d70e5646a26de3c52aa1abd85b1f\")).where(\"Game_id\", are.equal_to(\"006728e4c10e957011e1f24878e6054a\"))\n",
    "test_game\n"
   ]
  },
  {
   "cell_type": "code",
   "execution_count": 26,
   "metadata": {},
   "outputs": [
    {
     "data": {
      "text/html": [
       "<table border=\"1\" class=\"dataframe\">\n",
       "    <thead>\n",
       "        <tr>\n",
       "            <th>Game_id</th> <th>Event_Num</th> <th>Event_Msg_Type</th> <th>Period</th> <th>WC_Time</th> <th>PC_Time</th> <th>Action_Type</th> <th>Option1</th> <th>Option2</th> <th>Option3</th> <th>Team_id</th> <th>Person1</th> <th>Person2</th> <th>Person3</th> <th>Team_id_type</th> <th>Person1_type</th> <th>Person2_type</th> <th>Person3_type</th>\n",
       "        </tr>\n",
       "    </thead>\n",
       "    <tbody>\n",
       "        <tr>\n",
       "            <td>68f62f1c5cb84257932676bef8cc7a1a</td> <td>2        </td> <td>12            </td> <td>1     </td> <td>379,620</td> <td>7,200  </td> <td>0          </td> <td>0      </td> <td>0      </td> <td>0      </td> <td>1473d70e5646a26de3c52aa1abd85b1f</td> <td>0370a0d090da0d0edc6319f120187e0e</td> <td>0370a0d090da0d0edc6319f120187e0e</td> <td>0370a0d090da0d0edc6319f120187e0e</td> <td>0           </td> <td>0           </td> <td>0           </td> <td>0           </td>\n",
       "        </tr>\n",
       "    </tbody>\n",
       "</table>"
      ],
      "text/plain": [
       "Game_id                          | Event_Num | Event_Msg_Type | Period | WC_Time | PC_Time | Action_Type | Option1 | Option2 | Option3 | Team_id                          | Person1                          | Person2                          | Person3                          | Team_id_type | Person1_type | Person2_type | Person3_type\n",
       "68f62f1c5cb84257932676bef8cc7a1a | 2         | 12             | 1      | 379,620 | 7,200   | 0           | 0       | 0       | 0       | 1473d70e5646a26de3c52aa1abd85b1f | 0370a0d090da0d0edc6319f120187e0e | 0370a0d090da0d0edc6319f120187e0e | 0370a0d090da0d0edc6319f120187e0e | 0            | 0            | 0            | 0"
      ]
     },
     "execution_count": 26,
     "metadata": {},
     "output_type": "execute_result"
    }
   ],
   "source": [
    "one_game = game.where(\"Game_id\", are.equal_to(\"68f62f1c5cb84257932676bef8cc7a1a\")).sort(\"Event_Num\", descending = True)\n",
    "one_game_1 = one_game.where(\"Period\", are.equal_to(1)).where(\"Event_Msg_Type\", are.equal_to(12))\n",
    "events = one_game.column(\"Event_Num\")\n",
    "one_game_1\n",
    "\n",
    "\n",
    "    "
   ]
  },
  {
   "cell_type": "code",
   "execution_count": 27,
   "metadata": {},
   "outputs": [
    {
     "data": {
      "text/html": [
       "<table border=\"1\" class=\"dataframe\">\n",
       "    <thead>\n",
       "        <tr>\n",
       "            <th>Game_id</th> <th>Event_Num</th> <th>Event_Msg_Type</th> <th>Period</th> <th>WC_Time</th> <th>PC_Time</th> <th>Action_Type</th> <th>Option1</th> <th>Option2</th> <th>Option3</th> <th>Team_id</th> <th>Person1</th> <th>Person2</th> <th>Person3</th> <th>Team_id_type</th> <th>Person1_type</th> <th>Person2_type</th> <th>Person3_type</th>\n",
       "        </tr>\n",
       "    </thead>\n",
       "    <tbody>\n",
       "        <tr>\n",
       "            <td>68f62f1c5cb84257932676bef8cc7a1a</td> <td>793      </td> <td>13            </td> <td>4     </td> <td>476,880</td> <td>0      </td> <td>0          </td> <td>0      </td> <td>0      </td> <td>0      </td> <td>012059d397c0b7e5a30a5bb89c0b075e</td> <td>0370a0d090da0d0edc6319f120187e0e</td> <td>0370a0d090da0d0edc6319f120187e0e</td> <td>0370a0d090da0d0edc6319f120187e0e</td> <td>3           </td> <td>0           </td> <td>0           </td> <td>0           </td>\n",
       "        </tr>\n",
       "        <tr>\n",
       "            <td>68f62f1c5cb84257932676bef8cc7a1a</td> <td>792      </td> <td>4             </td> <td>4     </td> <td>476,840</td> <td>11     </td> <td>0          </td> <td>0      </td> <td>0      </td> <td>0      </td> <td>dc0f916810cb46c22beec67a860e00b4</td> <td>87d5036c732e89f1d2566f24b5c17113</td> <td>0370a0d090da0d0edc6319f120187e0e</td> <td>0370a0d090da0d0edc6319f120187e0e</td> <td>2           </td> <td>5           </td> <td>0           </td> <td>0           </td>\n",
       "        </tr>\n",
       "        <tr>\n",
       "            <td>68f62f1c5cb84257932676bef8cc7a1a</td> <td>791      </td> <td>2             </td> <td>4     </td> <td>476,800</td> <td>49     </td> <td>1          </td> <td>2      </td> <td>0      </td> <td>0      </td> <td>dc0f916810cb46c22beec67a860e00b4</td> <td>25cf5e1780ec195d1b11660bb9f10689</td> <td>0370a0d090da0d0edc6319f120187e0e</td> <td>0370a0d090da0d0edc6319f120187e0e</td> <td>2           </td> <td>4           </td> <td>0           </td> <td>0           </td>\n",
       "        </tr>\n",
       "        <tr>\n",
       "            <td>68f62f1c5cb84257932676bef8cc7a1a</td> <td>790      </td> <td>4             </td> <td>4     </td> <td>476,790</td> <td>62     </td> <td>0          </td> <td>0      </td> <td>0      </td> <td>0      </td> <td>dc0f916810cb46c22beec67a860e00b4</td> <td>3624f9b65b645ac7969395f1cac609d1</td> <td>0370a0d090da0d0edc6319f120187e0e</td> <td>0370a0d090da0d0edc6319f120187e0e</td> <td>2           </td> <td>4           </td> <td>0           </td> <td>0           </td>\n",
       "        </tr>\n",
       "        <tr>\n",
       "            <td>68f62f1c5cb84257932676bef8cc7a1a</td> <td>789      </td> <td>2             </td> <td>4     </td> <td>476,770</td> <td>83     </td> <td>1          </td> <td>2      </td> <td>0      </td> <td>0      </td> <td>dc0f916810cb46c22beec67a860e00b4</td> <td>3624f9b65b645ac7969395f1cac609d1</td> <td>0370a0d090da0d0edc6319f120187e0e</td> <td>0370a0d090da0d0edc6319f120187e0e</td> <td>2           </td> <td>4           </td> <td>0           </td> <td>0           </td>\n",
       "        </tr>\n",
       "        <tr>\n",
       "            <td>68f62f1c5cb84257932676bef8cc7a1a</td> <td>788      </td> <td>3             </td> <td>4     </td> <td>476,660</td> <td>160    </td> <td>12         </td> <td>1      </td> <td>0      </td> <td>0      </td> <td>012059d397c0b7e5a30a5bb89c0b075e</td> <td>4b35bf5cc8eebb940aa41c466bff7277</td> <td>0370a0d090da0d0edc6319f120187e0e</td> <td>0370a0d090da0d0edc6319f120187e0e</td> <td>3           </td> <td>5           </td> <td>0           </td> <td>0           </td>\n",
       "        </tr>\n",
       "        <tr>\n",
       "            <td>68f62f1c5cb84257932676bef8cc7a1a</td> <td>785      </td> <td>8             </td> <td>4     </td> <td>476,340</td> <td>160    </td> <td>0          </td> <td>0      </td> <td>0      </td> <td>0      </td> <td>012059d397c0b7e5a30a5bb89c0b075e</td> <td>8c646f2710d4f64955903039fdc6374e</td> <td>6a47aad050b23defa36c9d566a0570ff</td> <td>0370a0d090da0d0edc6319f120187e0e</td> <td>3           </td> <td>5           </td> <td>5           </td> <td>0           </td>\n",
       "        </tr>\n",
       "        <tr>\n",
       "            <td>68f62f1c5cb84257932676bef8cc7a1a</td> <td>784      </td> <td>8             </td> <td>4     </td> <td>476,340</td> <td>160    </td> <td>0          </td> <td>0      </td> <td>0      </td> <td>0      </td> <td>012059d397c0b7e5a30a5bb89c0b075e</td> <td>67cbf4e4a852b1756f1f3710cbcfedf0</td> <td>e741e01157292e79ed64b86014039285</td> <td>0370a0d090da0d0edc6319f120187e0e</td> <td>3           </td> <td>4           </td> <td>4           </td> <td>0           </td>\n",
       "        </tr>\n",
       "        <tr>\n",
       "            <td>68f62f1c5cb84257932676bef8cc7a1a</td> <td>783      </td> <td>3             </td> <td>4     </td> <td>476,320</td> <td>160    </td> <td>11         </td> <td>1      </td> <td>0      </td> <td>0      </td> <td>012059d397c0b7e5a30a5bb89c0b075e</td> <td>4b35bf5cc8eebb940aa41c466bff7277</td> <td>0370a0d090da0d0edc6319f120187e0e</td> <td>0370a0d090da0d0edc6319f120187e0e</td> <td>3           </td> <td>5           </td> <td>0           </td> <td>0           </td>\n",
       "        </tr>\n",
       "        <tr>\n",
       "            <td>68f62f1c5cb84257932676bef8cc7a1a</td> <td>781      </td> <td>6             </td> <td>4     </td> <td>475,920</td> <td>160    </td> <td>1          </td> <td>1      </td> <td>0      </td> <td>2      </td> <td>012059d397c0b7e5a30a5bb89c0b075e</td> <td>25cf5e1780ec195d1b11660bb9f10689</td> <td>4b35bf5cc8eebb940aa41c466bff7277</td> <td>8698f9e48464917e2d0e53104f1db2b5</td> <td>3           </td> <td>4           </td> <td>5           </td> <td>1           </td>\n",
       "        </tr>\n",
       "    </tbody>\n",
       "</table>\n",
       "<p>... (541 rows omitted)</p>"
      ],
      "text/plain": [
       "Game_id                          | Event_Num | Event_Msg_Type | Period | WC_Time | PC_Time | Action_Type | Option1 | Option2 | Option3 | Team_id                          | Person1                          | Person2                          | Person3                          | Team_id_type | Person1_type | Person2_type | Person3_type\n",
       "68f62f1c5cb84257932676bef8cc7a1a | 793       | 13             | 4      | 476,880 | 0       | 0           | 0       | 0       | 0       | 012059d397c0b7e5a30a5bb89c0b075e | 0370a0d090da0d0edc6319f120187e0e | 0370a0d090da0d0edc6319f120187e0e | 0370a0d090da0d0edc6319f120187e0e | 3            | 0            | 0            | 0\n",
       "68f62f1c5cb84257932676bef8cc7a1a | 792       | 4              | 4      | 476,840 | 11      | 0           | 0       | 0       | 0       | dc0f916810cb46c22beec67a860e00b4 | 87d5036c732e89f1d2566f24b5c17113 | 0370a0d090da0d0edc6319f120187e0e | 0370a0d090da0d0edc6319f120187e0e | 2            | 5            | 0            | 0\n",
       "68f62f1c5cb84257932676bef8cc7a1a | 791       | 2              | 4      | 476,800 | 49      | 1           | 2       | 0       | 0       | dc0f916810cb46c22beec67a860e00b4 | 25cf5e1780ec195d1b11660bb9f10689 | 0370a0d090da0d0edc6319f120187e0e | 0370a0d090da0d0edc6319f120187e0e | 2            | 4            | 0            | 0\n",
       "68f62f1c5cb84257932676bef8cc7a1a | 790       | 4              | 4      | 476,790 | 62      | 0           | 0       | 0       | 0       | dc0f916810cb46c22beec67a860e00b4 | 3624f9b65b645ac7969395f1cac609d1 | 0370a0d090da0d0edc6319f120187e0e | 0370a0d090da0d0edc6319f120187e0e | 2            | 4            | 0            | 0\n",
       "68f62f1c5cb84257932676bef8cc7a1a | 789       | 2              | 4      | 476,770 | 83      | 1           | 2       | 0       | 0       | dc0f916810cb46c22beec67a860e00b4 | 3624f9b65b645ac7969395f1cac609d1 | 0370a0d090da0d0edc6319f120187e0e | 0370a0d090da0d0edc6319f120187e0e | 2            | 4            | 0            | 0\n",
       "68f62f1c5cb84257932676bef8cc7a1a | 788       | 3              | 4      | 476,660 | 160     | 12          | 1       | 0       | 0       | 012059d397c0b7e5a30a5bb89c0b075e | 4b35bf5cc8eebb940aa41c466bff7277 | 0370a0d090da0d0edc6319f120187e0e | 0370a0d090da0d0edc6319f120187e0e | 3            | 5            | 0            | 0\n",
       "68f62f1c5cb84257932676bef8cc7a1a | 785       | 8              | 4      | 476,340 | 160     | 0           | 0       | 0       | 0       | 012059d397c0b7e5a30a5bb89c0b075e | 8c646f2710d4f64955903039fdc6374e | 6a47aad050b23defa36c9d566a0570ff | 0370a0d090da0d0edc6319f120187e0e | 3            | 5            | 5            | 0\n",
       "68f62f1c5cb84257932676bef8cc7a1a | 784       | 8              | 4      | 476,340 | 160     | 0           | 0       | 0       | 0       | 012059d397c0b7e5a30a5bb89c0b075e | 67cbf4e4a852b1756f1f3710cbcfedf0 | e741e01157292e79ed64b86014039285 | 0370a0d090da0d0edc6319f120187e0e | 3            | 4            | 4            | 0\n",
       "68f62f1c5cb84257932676bef8cc7a1a | 783       | 3              | 4      | 476,320 | 160     | 11          | 1       | 0       | 0       | 012059d397c0b7e5a30a5bb89c0b075e | 4b35bf5cc8eebb940aa41c466bff7277 | 0370a0d090da0d0edc6319f120187e0e | 0370a0d090da0d0edc6319f120187e0e | 3            | 5            | 0            | 0\n",
       "68f62f1c5cb84257932676bef8cc7a1a | 781       | 6              | 4      | 475,920 | 160     | 1           | 1       | 0       | 2       | 012059d397c0b7e5a30a5bb89c0b075e | 25cf5e1780ec195d1b11660bb9f10689 | 4b35bf5cc8eebb940aa41c466bff7277 | 8698f9e48464917e2d0e53104f1db2b5 | 3            | 4            | 5            | 1\n",
       "... (541 rows omitted)"
      ]
     },
     "execution_count": 27,
     "metadata": {},
     "output_type": "execute_result"
    }
   ],
   "source": [
    "one_game"
   ]
  },
  {
   "cell_type": "code",
   "execution_count": null,
   "metadata": {},
   "outputs": [],
   "source": [
    "#returns a table with player ids, total number of offensive points in offensive possesions, takes in a game_id\n",
    "def game_pos_off_pts(game_id):\n",
    "    return\n",
    "#returns a table with player ids, total number of defensive points in offensive possesions, takes in a game_id\n",
    "def game_pos_def_pts(game_id):\n",
    "    return\n",
    "#returns a table with all the offensive or defensive possesions and points for every player in the playoffs, takes in either\n",
    "#the defensive possesion-points calc function or offensive one\n",
    "def pos_pts_tally(game_pos_pts_func):\n",
    "    return\n",
    "#calculates ORT for all players, displays as table of Players and ORT\n",
    "def ORT_calculator(tally_table):\n",
    "    return\n",
    "#calculates DRT for all players, displays as table of Players and DRT\n",
    "def DRT_calculator(tally_table):"
   ]
  },
  {
   "cell_type": "code",
   "execution_count": null,
   "metadata": {},
   "outputs": [],
   "source": [
    "#bui;ding the game_pos_off_pts function\n"
   ]
  }
 ],
 "metadata": {
  "kernelspec": {
   "display_name": "Python 3",
   "language": "python",
   "name": "python3"
  },
  "language_info": {
   "codemirror_mode": {
    "name": "ipython",
    "version": 3
   },
   "file_extension": ".py",
   "mimetype": "text/x-python",
   "name": "python",
   "nbconvert_exporter": "python",
   "pygments_lexer": "ipython3",
   "version": "3.6.7"
  }
 },
 "nbformat": 4,
 "nbformat_minor": 2
}
